{
  "nbformat": 4,
  "nbformat_minor": 0,
  "metadata": {
    "colab": {
      "name": "Ejercicio 3- 21 ejercicios de Funciones.ipynb",
      "provenance": [],
      "collapsed_sections": [],
      "authorship_tag": "ABX9TyONtAeOlvmQmM55AtC4+HWH",
      "include_colab_link": true
    },
    "kernelspec": {
      "name": "python3",
      "display_name": "Python 3"
    },
    "language_info": {
      "name": "python"
    }
  },
  "cells": [
    {
      "cell_type": "markdown",
      "metadata": {
        "id": "view-in-github",
        "colab_type": "text"
      },
      "source": [
        "<a href=\"https://colab.research.google.com/github/ispineda/DevF-Professional-Data-Science/blob/main/BasicPythonCode/Ejercicio_3_21_ejercicios_de_Funciones.ipynb\" target=\"_parent\"><img src=\"https://colab.research.google.com/assets/colab-badge.svg\" alt=\"Open In Colab\"/></a>"
      ]
    },
    {
      "cell_type": "code",
      "source": [
        "\"\"\"\n",
        "1. Write a Python function to find the Max of three numbers.\n",
        "\"\"\"\n",
        "def max_numbers(*args):\n",
        "  return max(args)\n",
        "\n",
        "print(max_numbers(2,3,4,5))"
      ],
      "metadata": {
        "colab": {
          "base_uri": "https://localhost:8080/"
        },
        "id": "Br0cTngA22Vn",
        "outputId": "81efe893-28b3-4f22-f078-dcd94d21ec10"
      },
      "execution_count": null,
      "outputs": [
        {
          "output_type": "stream",
          "name": "stdout",
          "text": [
            "5\n"
          ]
        }
      ]
    },
    {
      "cell_type": "code",
      "source": [
        "\"\"\"\n",
        "2. Write a Python function to sum all the numbers in a list.\n",
        "Sample List : (8, 2, 3, 0, 7)\n",
        "Expected Output : 20\n",
        "\"\"\"\n",
        "def sum_numbers(*args):\n",
        "  return sum(args)\n",
        "\n",
        "def sum_numbers_2(*args):\n",
        "  result = 0\n",
        "  for i in args:\n",
        "    result += i\n",
        "  return result\n",
        "\n",
        "print(sum_numbers(2,3,4,41))\n",
        "print(sum_numbers_2(2,3,4,41))"
      ],
      "metadata": {
        "colab": {
          "base_uri": "https://localhost:8080/"
        },
        "id": "TvbrsQEj3xY5",
        "outputId": "136f35fb-5fe7-42aa-9819-3d0a3fe58f05"
      },
      "execution_count": null,
      "outputs": [
        {
          "output_type": "stream",
          "name": "stdout",
          "text": [
            "50\n",
            "50\n"
          ]
        }
      ]
    },
    {
      "cell_type": "code",
      "source": [
        "\n",
        "\"\"\"\n",
        "3. Write a Python function to multiply all the numbers in a list.\n",
        "Sample List : (8, 2, 3, -1, 7)\n",
        "Expected Output : -336\n",
        "\"\"\"\n",
        "def mult_numbers(*args):\n",
        "  result = 1\n",
        "  for i in args:\n",
        "    result *= i\n",
        "  return result\n",
        "\n",
        "print(mult_numbers(1,2,3))"
      ],
      "metadata": {
        "colab": {
          "base_uri": "https://localhost:8080/"
        },
        "id": "rNekBG8c32w5",
        "outputId": "ed692848-cd9b-4dbe-fbe0-20abbfba288f"
      },
      "execution_count": null,
      "outputs": [
        {
          "output_type": "stream",
          "name": "stdout",
          "text": [
            "6\n"
          ]
        }
      ]
    },
    {
      "cell_type": "code",
      "source": [
        "\"\"\"\n",
        "4. Write a Python program to reverse a string.\n",
        "Sample String : \"1234abcd\"\n",
        "Expected Output : \"dcba4321\"\n",
        "\"\"\"\n",
        "\n",
        "def reverse_string(string):\n",
        "  string = str(string)\n",
        "  return string[::-1]\n",
        "\n",
        "print(reverse_string(\"1234abcd\"))\n"
      ],
      "metadata": {
        "colab": {
          "base_uri": "https://localhost:8080/"
        },
        "id": "d_jDK3aV36Uq",
        "outputId": "14bba1b3-e821-4fea-ad72-ad957dd11369"
      },
      "execution_count": null,
      "outputs": [
        {
          "output_type": "stream",
          "name": "stdout",
          "text": [
            "dcba4321\n"
          ]
        }
      ]
    },
    {
      "cell_type": "code",
      "source": [
        "\n",
        "\"\"\"\n",
        "5. Write a Python function to calculate the factorial of a number (a non-negative integer). The function accepts the number as an argument.\n",
        "\"\"\"\n",
        "\n",
        "def factorial(number):\n",
        "  facto = 1\n",
        "\n",
        "  if number == 0:\n",
        "    return facto\n",
        "  else:\n",
        "    for i in range(1, number+1):\n",
        "      facto *=i\n",
        "  return facto\n",
        "\n",
        "print(factorial(5))"
      ],
      "metadata": {
        "colab": {
          "base_uri": "https://localhost:8080/"
        },
        "id": "1NoxzF-z3-SZ",
        "outputId": "7b6b0bc9-0ddd-4ff9-9c85-d9ab77a7f370"
      },
      "execution_count": null,
      "outputs": [
        {
          "output_type": "stream",
          "name": "stdout",
          "text": [
            "120\n"
          ]
        }
      ]
    },
    {
      "cell_type": "code",
      "source": [
        "\"\"\"\n",
        "6. Write a Python function to check whether a number falls in a given range. Go to the editor\n",
        "\"\"\"\n",
        "import random as rd\n",
        "\n",
        "def check_range(check_number, range_min, range_max):\n",
        "  \n",
        "  if range_max < range_min:\n",
        "    aux = range_min\n",
        "    range_min = range_max\n",
        "    range_max = aux\n",
        "\n",
        "  print(f'{check_number} -> [{range_min},{range_max}]')\n",
        "\n",
        "  if check_number >= range_min and check_number <= range_max:\n",
        "    return True\n",
        "  return False\n",
        "\n",
        "random_number = rd.randint(0,100)\n",
        "random_range_min = rd.randint(0,100)\n",
        "random_range_max = rd.randint(0,100)\n",
        "\n",
        "print(check_range(random_number, random_range_min, random_range_max))\n"
      ],
      "metadata": {
        "colab": {
          "base_uri": "https://localhost:8080/"
        },
        "id": "A70i6JQE3_9t",
        "outputId": "c67b0f94-862f-4bdf-dc10-3ebe4360ed97"
      },
      "execution_count": null,
      "outputs": [
        {
          "output_type": "stream",
          "name": "stdout",
          "text": [
            "36 -> [32,53]\n",
            "True\n"
          ]
        }
      ]
    },
    {
      "cell_type": "code",
      "source": [
        "\"\"\"\n",
        "7. Write a Python function that accepts a string and calculate the number of upper case letters and lower case letters.\n",
        "Sample String : 'The quick Brow Fox'\n",
        "Expected Output :\n",
        "No. of Upper case characters : 3\n",
        "No. of Lower case Characters : 12\n",
        "\"\"\"\n",
        "\n",
        "# ===================== Forma 1 ======================================\n",
        "def calculate_lower_upper(string):\n",
        "  string = str(string).replace(' ', '')\n",
        "\n",
        "  count_lower = 0\n",
        "  count_upper = 0\n",
        "\n",
        "  # Con código ASCII\n",
        "  for character in string:\n",
        "    if ord(character) >= 97 and ord(character) <= 122:\n",
        "      count_lower +=1\n",
        "    elif ord(character) >= 65 and ord(character) <= 90:\n",
        "      count_upper +=1\n",
        "    else:\n",
        "      print(\"Existen caracteres validos\")\n",
        "  \n",
        "  return (count_lower, count_upper)\n",
        "\n",
        "# ===================== Forma 2 ======================================\n",
        "def calculate_lower_upper_2(string):\n",
        "  string = str(string).replace(' ', '')\n",
        "  \n",
        "  count_lower = 0\n",
        "  count_upper = 0\n",
        "\n",
        "  # Con funciones predeterminadas\n",
        "  for character in string:\n",
        "    if character.islower():\n",
        "      count_lower +=1\n",
        "    elif character.isupper():\n",
        "      count_upper +=1\n",
        "    else:\n",
        "      print(\"Existen caracteres validos\")\n",
        "  return (count_lower, count_upper)\n",
        "\n",
        "# ===================== Forma 3 ======================================\n",
        "def calculate_lower_upper_3(string):\n",
        "  string = str(string).replace(' ', '')\n",
        "  \n",
        "  # Haciendo uso de listas\n",
        "  count_upper = 0\n",
        "  count_lower = 0\n",
        "\n",
        "  for original, lower, upper in zip(string, string.lower(), string.upper()):\n",
        "    if original == lower:\n",
        "      count_lower += 1\n",
        "    elif original == upper:\n",
        "      count_upper += 1\n",
        "    else:\n",
        "      print(\"Caracter invalido\")\n",
        "  \n",
        "  return (count_lower, count_upper)\n",
        "\n",
        "# ===================== Forma 4 ======================================\n",
        "def compare_elements(lista_1, lista_2):\n",
        "  vector_compare = []\n",
        "  \n",
        "  for element1, element2 in zip(lista_1, lista_2):\n",
        "    if element1 == element2:\n",
        "      vector_compare.append(True)\n",
        "    else:\n",
        "      vector_compare.append(False)\n",
        "  return vector_compare\n",
        "\n",
        "def calculate_lower_upper_4(string):\n",
        "  string = str(string).replace(' ', '')\n",
        "  \n",
        "  string_upper = list(string.upper())\n",
        "  string_lower = list(string.lower())\n",
        "  string = list(string)\n",
        "\n",
        "  count_upper = compare_elements(string, string_upper).count(True)\n",
        "  count_lower = compare_elements(string, string_lower).count(True)\n",
        "\n",
        "  return count_lower, count_upper\n",
        "\n",
        "# ===================== Forma 5 ======================================\n",
        "def calculate_lower_upper_5(string):\n",
        "  string = str(string).replace(' ', '')\n",
        "  count_lower = [x.islower() for x in string].count(True)\n",
        "  count_upper = [x.isupper() for x in string].count(True)\n",
        "  return (count_lower, count_upper)\n",
        "\n",
        "\n",
        "print(calculate_lower_upper(\"The quick Brow Fox\"))\n",
        "print(calculate_lower_upper_2(\"The quick Brow Fox\"))\n",
        "print(calculate_lower_upper_3(\"The quick Brow Fox\"))\n",
        "print(calculate_lower_upper_4(\"The quick Brow Fox\"))\n",
        "print(calculate_lower_upper_5(\"The quick Brow Fox\"))\n"
      ],
      "metadata": {
        "colab": {
          "base_uri": "https://localhost:8080/"
        },
        "id": "VFH-wtch4Cc2",
        "outputId": "4ea3d925-aa55-4504-9468-ac20be311df7"
      },
      "execution_count": null,
      "outputs": [
        {
          "output_type": "stream",
          "name": "stdout",
          "text": [
            "(12, 3)\n",
            "(12, 3)\n",
            "(12, 3)\n",
            "(12, 3)\n",
            "(12, 3)\n"
          ]
        }
      ]
    },
    {
      "cell_type": "code",
      "source": [
        "\"\"\"\n",
        "8. Write a Python function that takes a list and returns a new list with unique elements of the first list.\n",
        "Sample List : [1,2,3,3,3,3,4,5]\n",
        "Unique List : [1, 2, 3, 4, 5]\n",
        "\"\"\"\n",
        "\n",
        "def uniques(*args):\n",
        "  return set(args)\n",
        "\n",
        "print(uniques(1,1,2,3,4,4,2,2))"
      ],
      "metadata": {
        "colab": {
          "base_uri": "https://localhost:8080/"
        },
        "id": "qwHs3_XS4Fqy",
        "outputId": "5be92844-e7a0-44f1-a474-bb5cc3be7c16"
      },
      "execution_count": null,
      "outputs": [
        {
          "output_type": "stream",
          "name": "stdout",
          "text": [
            "{1, 2, 3, 4}\n"
          ]
        }
      ]
    },
    {
      "cell_type": "code",
      "source": [
        "\"\"\"\n",
        "9. Write a Python function that takes a number as a parameter and check the number is prime or not.\n",
        "Note : A prime number (or a prime) is a natural number greater than 1 and that has no positive divisors other than 1 and itself.\n",
        "\"\"\"\n",
        "def is_prime(number):\n",
        "    for n in range(2, number):\n",
        "        if number % n == 0:\n",
        "            return False\n",
        "    return True\n",
        "\n",
        "print(is_prime(2))\n",
        "print(is_prime(16281361))"
      ],
      "metadata": {
        "colab": {
          "base_uri": "https://localhost:8080/"
        },
        "id": "AJvRTdna4IBp",
        "outputId": "6904ebcb-2968-44a3-a17f-30cabf70b3c7"
      },
      "execution_count": null,
      "outputs": [
        {
          "output_type": "stream",
          "name": "stdout",
          "text": [
            "True\n",
            "True\n"
          ]
        }
      ]
    },
    {
      "cell_type": "code",
      "source": [
        "\"\"\"\n",
        "10. Write a Python program to print the even numbers from a given list.\n",
        "Sample List : [1, 2, 3, 4, 5, 6, 7, 8, 9]\n",
        "Expected Result : [2, 4, 6, 8]\n",
        "\"\"\"\n",
        "\n",
        "def numbers_pars(list):\n",
        "  for i in list:\n",
        "    if i%2 == 0:\n",
        "      print(i)\n",
        "\n",
        "numbers_pars([1,2,3,4,5,6,7,8,9])"
      ],
      "metadata": {
        "colab": {
          "base_uri": "https://localhost:8080/"
        },
        "id": "1pZMW4kK4KI8",
        "outputId": "6cbac00d-b163-46bd-fad7-620e02eebd50"
      },
      "execution_count": null,
      "outputs": [
        {
          "output_type": "stream",
          "name": "stdout",
          "text": [
            "2\n",
            "4\n",
            "6\n",
            "8\n"
          ]
        }
      ]
    },
    {
      "cell_type": "code",
      "source": [
        "\"\"\"\n",
        "11. Write a Python function to check whether a number is perfect or not.\n",
        "According to Wikipedia : In number theory, a perfect number is a positive integer that is equal to the sum of its \n",
        "proper positive divisors, that is, the sum of its positive divisors excluding the number itself (also known as its aliquot sum). \n",
        "Equivalently, a perfect number is a number that is half the sum of all of its positive divisors (including itself).\n",
        "\n",
        "Example : The first perfect number is 6, because 1, 2, and 3 are its proper positive divisors, and 1 + 2 + 3 = 6. \n",
        "Equivalently, the number 6 is equal to half the sum of all its positive divisors: ( 1 + 2 + 3 + 6 ) / 2 = 6. \n",
        "The next perfect number is 28 = 1 + 2 + 4 + 7 + 14. This is followed by the perfect numbers 496 and 8128.\n",
        "\"\"\"\n",
        "\n",
        "def is_number_perfect(number):\n",
        "  \n",
        "  divisors = []\n",
        "  for i in range(1, number+1):  \n",
        "    if number%i == 0 and i != number:\n",
        "      divisors.append(i)\n",
        "  \n",
        "  result = sum(divisors)\n",
        "  print(divisors, \" = \", result)\n",
        "  return (result == number)\n",
        "\n",
        "print(is_number_perfect(8128))\n"
      ],
      "metadata": {
        "colab": {
          "base_uri": "https://localhost:8080/"
        },
        "id": "wqtpecPx4MCK",
        "outputId": "591fd035-a9e1-4c8c-cf71-d4df2b098c1b"
      },
      "execution_count": null,
      "outputs": [
        {
          "output_type": "stream",
          "name": "stdout",
          "text": [
            "[1, 2, 4, 8, 16, 32, 64, 127, 254, 508, 1016, 2032, 4064]  =  8128\n",
            "True\n"
          ]
        }
      ]
    },
    {
      "cell_type": "code",
      "source": [
        "\"\"\"\n",
        "12. Write a Python function that checks whether a passed string is palindrome or not. Go to the editor\n",
        "Note: A palindrome is a word, phrase, or sequence that reads the same backward as forward, e.g., madam or nurses run.\n",
        "Click me to see the sample solution\n",
        "\"\"\"\n",
        "def is_palindrome(string):\n",
        "  string = str(string)\n",
        "  inverse_string = string[::-1]\n",
        "  return (string == inverse_string)\n",
        "\n",
        "is_palindrome(12321)"
      ],
      "metadata": {
        "colab": {
          "base_uri": "https://localhost:8080/"
        },
        "id": "nsDSYvH84OHM",
        "outputId": "5e61bd1e-07f5-4159-f3db-1ec61ae53470"
      },
      "execution_count": null,
      "outputs": [
        {
          "output_type": "execute_result",
          "data": {
            "text/plain": [
              "True"
            ]
          },
          "metadata": {},
          "execution_count": 120
        }
      ]
    },
    {
      "cell_type": "code",
      "execution_count": null,
      "metadata": {
        "id": "viS18OT4m37h"
      },
      "outputs": [],
      "source": [
        "def es_palindromo(cadena):\n",
        "  \n",
        "  cadena = str(cadena)\n",
        "  cadena = list(cadena)\n",
        "  cadena_inversa = []\n",
        "\n",
        "  for i in range( 0, len(cadena) ):\n",
        "    cadena_inversa.append(cadena[len(cadena)-1-i])\n",
        "\n",
        "  print(\"Func es palindromo... \")\n",
        "  print(cadena, ',', cadena_inversa)\n",
        "  return (cadena == cadena_inversa)\n",
        "\n",
        "\n",
        "def es_palindromo_2(cadena):\n",
        "  cadena = str(cadena)\n",
        "  cadena_inversa = \"\"\n",
        "\n",
        "  for i in range(0, len(cadena)):\n",
        "    cadena_inversa += cadena[len(cadena)-1-i]\n",
        "  \n",
        "  print(\"Func es palindromo... \")\n",
        "  print(cadena, ', ', cadena_inversa)\n",
        "\n",
        "  return (cadena == cadena_inversa)\n",
        "\n",
        "print(es_palindromo(\"hola mundo\"))\n",
        "print(es_palindromo_2(12321))"
      ]
    },
    {
      "cell_type": "code",
      "source": [
        "\"\"\"\n",
        "13. Write a Python function that prints out the first n rows of Pascal's triangle. Go to the editor\n",
        "Note : Pascal's triangle is an arithmetic and geometric figure first imagined by Blaise Pascal.\n",
        "\n",
        "Sample Pascal's triangle :\n",
        "\n",
        "Pascal's triangle\n",
        "Each number is the two numbers above it added together Go to the editor\n",
        "Click me to see the sample solution\n",
        "\"\"\"\n",
        "\n",
        "def pascal_triangle(n):\n",
        "   \n",
        "  extrems = [1]\n",
        "  add_element = [0]\n",
        "  \n",
        "  for x in range(abs(n)):\n",
        "    print(extrems)\n",
        "    extrems = [element1+element2 for element1, element2 in zip(extrems+add_element, add_element+extrems)]\n",
        "  pass\n",
        "\n",
        "pascal_triangle(4)"
      ],
      "metadata": {
        "colab": {
          "base_uri": "https://localhost:8080/"
        },
        "id": "1KZ59oiG4P32",
        "outputId": "23fa6a47-8f98-4bb9-df54-672ee0f6a994"
      },
      "execution_count": null,
      "outputs": [
        {
          "output_type": "stream",
          "name": "stdout",
          "text": [
            "[1]\n",
            "[1, 1]\n",
            "[1, 2, 1]\n",
            "[1, 3, 3, 1]\n"
          ]
        }
      ]
    },
    {
      "cell_type": "code",
      "source": [
        "\"\"\"\n",
        "14. Write a Python function to check whether a string is a pangram or not. Go to the editor\n",
        "Note : Pangrams are words or sentences containing every letter of the alphabet at least once.\n",
        "For example : \"The quick brown fox jumps over the lazy dog\"\n",
        "Click me to see the sample solution\n",
        "\"\"\"\n",
        "def is_pangram(string):\n",
        "  \n",
        "  string = str(string).replace(' ', '').lower() \n",
        "  values_string_ascii = set(map(ord, set(string)))\n",
        "  characters_ascii_lower = set(range(97, 123))\n",
        "  \n",
        "  return (characters_ascii_lower == values_string_ascii)\n",
        "\n",
        "is_pangram(\"The quick brown fox jumps over the lazy dog\")"
      ],
      "metadata": {
        "colab": {
          "base_uri": "https://localhost:8080/"
        },
        "id": "ak2JpN0t4Sy7",
        "outputId": "eabde099-6198-4bcf-9f7f-2327ad1d7557"
      },
      "execution_count": null,
      "outputs": [
        {
          "output_type": "execute_result",
          "data": {
            "text/plain": [
              "True"
            ]
          },
          "metadata": {},
          "execution_count": 214
        }
      ]
    },
    {
      "cell_type": "code",
      "source": [
        "\n",
        "\"\"\"\n",
        "15. Write a Python program that accepts a hyphen-separated sequence of words as input and prints the words in a hyphen-separated sequence after sorting them alphabetically. Go to the editor\n",
        "Sample Items : green-red-yellow-black-white\n",
        "Expected Result : black-green-red-white-yellow\n",
        "Click me to see the sample solution\n",
        "\"\"\"\n",
        "def hyphen_separated_sorted(string):\n",
        "\n",
        "  string_separate = sorted(str(string).split('-'))\n",
        "  string_sorted = '-'.join(string_separate)\n",
        "  return string_sorted\n",
        "\n",
        "print(hyphen_separated_sorted(\"green-red-yellow-black-white\"))\n"
      ],
      "metadata": {
        "colab": {
          "base_uri": "https://localhost:8080/"
        },
        "id": "kaj0-OYB4UmZ",
        "outputId": "e01f0be1-9888-423e-940d-07f5fe2cbfc0"
      },
      "execution_count": null,
      "outputs": [
        {
          "output_type": "stream",
          "name": "stdout",
          "text": [
            "black-green-red-white-yellow\n"
          ]
        }
      ]
    },
    {
      "cell_type": "code",
      "source": [
        "\"\"\"\n",
        "16. Write a Python function to create and print a list where the values are square of numbers between 1 and 30 (both included). Go to the editor\n",
        "Click me to see the sample solution\n",
        "\"\"\"\n",
        "def square_print(top = 30):\n",
        "  return [x**2 for x in range(1,top+1)]\n",
        "\n",
        "print(square_print())"
      ],
      "metadata": {
        "colab": {
          "base_uri": "https://localhost:8080/"
        },
        "id": "htZ3blMY4Xwj",
        "outputId": "243a7978-5636-4c04-b9c1-78b6c3443304"
      },
      "execution_count": null,
      "outputs": [
        {
          "output_type": "stream",
          "name": "stdout",
          "text": [
            "[1, 4, 9, 16, 25, 36, 49, 64, 81, 100, 121, 144, 169, 196, 225, 256, 289, 324, 361, 400, 441, 484, 529, 576, 625, 676, 729, 784, 841, 900]\n"
          ]
        }
      ]
    },
    {
      "cell_type": "code",
      "source": [
        "\"\"\"\n",
        "17. Write a Python program to make a chain of function decorators (bold, italic, underline etc.) in Python. Go to the editor\n",
        "Click me to see the sample solution\n",
        "\"\"\"\n",
        "\n",
        "def make_bold(string):\n",
        "    return \"<b>\" + string + \"</b>\"\n",
        "\n",
        "def make_italic(string):\n",
        "    return \"<i>\" + string + \"</i>\"\n",
        "\n",
        "def make_underline(string):\n",
        "    return \"<u>\" + string + \"</u>\"\n",
        "    \n",
        "def assemble_text_decoration(string):\n",
        "  return make_bold(make_italic(make_underline(string)))\n",
        "\n",
        "assemble_text_decoration(\"amigo\")\n"
      ],
      "metadata": {
        "colab": {
          "base_uri": "https://localhost:8080/",
          "height": 35
        },
        "id": "uvqtikx64aCo",
        "outputId": "1e04dad6-2d87-413d-ce1f-451ee0eb7541"
      },
      "execution_count": null,
      "outputs": [
        {
          "output_type": "execute_result",
          "data": {
            "application/vnd.google.colaboratory.intrinsic+json": {
              "type": "string"
            },
            "text/plain": [
              "'<b><i><u>amigo</u></i></b>'"
            ]
          },
          "metadata": {},
          "execution_count": 243
        }
      ]
    },
    {
      "cell_type": "code",
      "source": [
        "\"\"\"\n",
        "18. Write a Python program to execute a string containing Python code. Go to the editor\n",
        "Click me to see the sample solution\n",
        "\"\"\"\n",
        "\n",
        "def compiler(instruction):\n",
        "  exec(instruction)\n",
        "\n",
        "compiler('print(\"hola mundo\")')\n",
        "\n",
        "compiler(\"\"\"\n",
        "def suma(x, y):\n",
        "  return x + y\n",
        "\n",
        "print(suma(2,3))\n",
        "\"\"\")"
      ],
      "metadata": {
        "colab": {
          "base_uri": "https://localhost:8080/"
        },
        "id": "vzHp5EXY4bxO",
        "outputId": "8895ecbf-7c1b-4ec5-b09b-a4fefc924199"
      },
      "execution_count": null,
      "outputs": [
        {
          "output_type": "stream",
          "name": "stdout",
          "text": [
            "hola mundo\n",
            "5\n"
          ]
        }
      ]
    },
    {
      "cell_type": "code",
      "source": [
        "\"\"\"\n",
        "19. Write a Python program to access a function inside a function. Go to the editor\n",
        "Click me to see the sample solution\n",
        "\"\"\"\n",
        "\n",
        "def print_function(func, *args):\n",
        "  print(func(args))\n",
        "\n",
        "def assemble_names(list_parameter):\n",
        "  \n",
        "  list_new = ' '.join(list_parameter)\n",
        "  return list_new\n",
        "\n",
        "print_function(assemble_names, \"Jesús\", \"Ismael\", \"Pineda\", \"Hernández\")\n"
      ],
      "metadata": {
        "colab": {
          "base_uri": "https://localhost:8080/"
        },
        "id": "hkL0OfFw4c_a",
        "outputId": "035d90d3-080e-4851-e4dc-91ecbfa056f4"
      },
      "execution_count": null,
      "outputs": [
        {
          "output_type": "stream",
          "name": "stdout",
          "text": [
            "Jesús Ismael Pineda Hernández\n"
          ]
        }
      ]
    },
    {
      "cell_type": "code",
      "source": [
        "def name(*args):\n",
        "  def assemble_names():\n",
        "    list_new = ' '.join(args)\n",
        "    return list_new\n",
        "  return assemble_names\n",
        "\n",
        "print(name(\"Jesús\", \"Ismael\", \"Pineda\", \"Hernández\"))\n",
        "\n",
        "funct = name(\"Jesús\", \"Ismael\", \"Pineda\", \"Hernández\")\n",
        "print(funct())"
      ],
      "metadata": {
        "colab": {
          "base_uri": "https://localhost:8080/"
        },
        "id": "l-stZiJbr65I",
        "outputId": "1bad6177-63d1-4659-d2a0-b8123a7ddd51"
      },
      "execution_count": null,
      "outputs": [
        {
          "output_type": "stream",
          "name": "stdout",
          "text": [
            "<function name.<locals>.assemble_names at 0x7f514ef69f80>\n",
            "Jesús Ismael Pineda Hernández\n"
          ]
        }
      ]
    },
    {
      "cell_type": "code",
      "source": [
        "\"\"\"\n",
        "20. Write a Python program to detect the number of local variables declared in a function. Go to the editor\n",
        "Sample Output:\n",
        "3\n",
        "Click me to see the sample solution\n",
        "\"\"\"\n",
        "def incognition_vars_1():\n",
        "  var1 = 0\n",
        "  var2 = \"Amigo\"\n",
        "  var3 = 120.2\n",
        "  var4 = 5 + 7j\n",
        "\n",
        "def incognition_vars_2():\n",
        "  var1 = 0\n",
        "  var2 = \"Amigo\"\n",
        "\n",
        "def found_data_vars(name_function):\n",
        "  print(name_function.__code__.co_nlocals)\n",
        "  print(name_function.__code__.co_varnames)\n",
        "\n",
        "found_data_vars(incognition_vars_2)"
      ],
      "metadata": {
        "colab": {
          "base_uri": "https://localhost:8080/"
        },
        "id": "yG2DVsNE4eNS",
        "outputId": "aa595be4-7a10-4732-f45b-72b4c1c6190c"
      },
      "execution_count": null,
      "outputs": [
        {
          "output_type": "stream",
          "name": "stdout",
          "text": [
            "2\n",
            "('var1', 'var2')\n"
          ]
        }
      ]
    },
    {
      "cell_type": "code",
      "source": [
        "\"\"\"\n",
        "21. Write a Python program that invoke a given function after specific milliseconds. Go to the editor\n",
        "Sample Output:\n",
        "Square root after specific miliseconds:\n",
        "4.0\n",
        "10.0\n",
        "158.42979517754858\n",
        "\"\"\"\n",
        "\n",
        "from time import sleep\n",
        "import math\n",
        "\n",
        "def delay(fun, ms, *args):\n",
        "  print(f'tiempo de espera {ms/1000} segundos para ejecutar la función')\n",
        "  sleep(ms/1000)\n",
        "  return fun(*args)\n",
        "\n",
        "fun_anonima = lambda x: math.sqrt(x)\n",
        "print(delay(fun_anonima, 100, 16)) \n",
        "print(delay(fun_anonima, 1000, 16)) \n",
        "print(delay(fun_anonima, 10000, 16)) \n"
      ],
      "metadata": {
        "colab": {
          "base_uri": "https://localhost:8080/"
        },
        "id": "8cK4NZdy4fsp",
        "outputId": "76e781fa-65dc-4772-809f-1d1ef69620be"
      },
      "execution_count": null,
      "outputs": [
        {
          "output_type": "stream",
          "name": "stdout",
          "text": [
            "tiempo de espera 0.1 segundos para ejecutar la función\n",
            "4.0\n",
            "tiempo de espera 1.0 segundos para ejecutar la función\n",
            "4.0\n",
            "tiempo de espera 10.0 segundos para ejecutar la función\n",
            "4.0\n"
          ]
        }
      ]
    }
  ]
}