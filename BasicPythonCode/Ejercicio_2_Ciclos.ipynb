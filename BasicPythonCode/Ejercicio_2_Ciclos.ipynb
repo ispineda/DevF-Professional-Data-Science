{
  "nbformat": 4,
  "nbformat_minor": 0,
  "metadata": {
    "colab": {
      "name": "Ejercicio 2 - Jesús Ismael - Ciclos.ipynb",
      "provenance": [],
      "collapsed_sections": [],
      "include_colab_link": true
    },
    "kernelspec": {
      "name": "python3",
      "display_name": "Python 3"
    },
    "language_info": {
      "name": "python"
    }
  },
  "cells": [
    {
      "cell_type": "markdown",
      "metadata": {
        "id": "view-in-github",
        "colab_type": "text"
      },
      "source": [
        "<a href=\"https://colab.research.google.com/github/ispineda/DevF-Professional-Data-Science/blob/main/BasicPythonCode/Ejercicio_2_Ciclos.ipynb\" target=\"_parent\"><img src=\"https://colab.research.google.com/assets/colab-badge.svg\" alt=\"Open In Colab\"/></a>"
      ]
    },
    {
      "cell_type": "markdown",
      "metadata": {
        "id": "VEn_SLPyboN0"
      },
      "source": [
        "# Ciclos\n"
      ]
    },
    {
      "cell_type": "markdown",
      "metadata": {
        "id": "Ltf91jwLSB_d"
      },
      "source": [
        "Lee con atención las instrucciones en los siguientes ejercicios y ejecuta:"
      ]
    },
    {
      "cell_type": "markdown",
      "metadata": {
        "id": "8CXLWwF2TS5D"
      },
      "source": [
        "1. Escribe un ciclo que permita imprimir los números del 1 al 10"
      ]
    },
    {
      "cell_type": "code",
      "metadata": {
        "id": "wAOmpofLR1d5",
        "colab": {
          "base_uri": "https://localhost:8080/"
        },
        "outputId": "205aff12-5483-4c77-acac-2a23fc2c7fd7"
      },
      "source": [
        "for n in range(1, 11):\n",
        "  print(n)"
      ],
      "execution_count": null,
      "outputs": [
        {
          "output_type": "stream",
          "name": "stdout",
          "text": [
            "1\n",
            "2\n",
            "3\n",
            "4\n",
            "5\n",
            "6\n",
            "7\n",
            "8\n",
            "9\n",
            "10\n"
          ]
        }
      ]
    },
    {
      "cell_type": "markdown",
      "metadata": {
        "id": "JGlH_p9ll3yO"
      },
      "source": [
        "2. Escribe un ciclo que imprima los números pares entre el 30 y el 50 (incluyendo el 30 y excluyendo el 50)"
      ]
    },
    {
      "cell_type": "code",
      "metadata": {
        "id": "_hobkTpAUEB4",
        "colab": {
          "base_uri": "https://localhost:8080/"
        },
        "outputId": "ad0e9936-06bd-43ce-d432-31a6b35295b2"
      },
      "source": [
        "for n in range(30,50, 2):\n",
        "  print(n)\n",
        "\n",
        "print('')\n",
        "\n",
        "for n in range(30,50):\n",
        "  if n%2 == 0:\n",
        "    print(n)"
      ],
      "execution_count": null,
      "outputs": [
        {
          "output_type": "stream",
          "name": "stdout",
          "text": [
            "30\n",
            "32\n",
            "34\n",
            "36\n",
            "38\n",
            "40\n",
            "42\n",
            "44\n",
            "46\n",
            "48\n",
            "\n",
            "30\n",
            "32\n",
            "34\n",
            "36\n",
            "38\n",
            "40\n",
            "42\n",
            "44\n",
            "46\n",
            "48\n"
          ]
        }
      ]
    },
    {
      "cell_type": "markdown",
      "metadata": {
        "id": "cCqs1tjHNpv4"
      },
      "source": [
        "3. Escribe un ciclo que imprima los valores entre el 3 y el 8 en pasos de 2 en 2."
      ]
    },
    {
      "cell_type": "code",
      "metadata": {
        "colab": {
          "base_uri": "https://localhost:8080/"
        },
        "id": "70-kC-f9oqAe",
        "outputId": "579e8db0-cae9-434e-d6d7-4185c7cde851"
      },
      "source": [
        "for n in range(3, 8, 2):\n",
        "  print(n)"
      ],
      "execution_count": null,
      "outputs": [
        {
          "output_type": "stream",
          "name": "stdout",
          "text": [
            "3\n",
            "5\n",
            "7\n"
          ]
        }
      ]
    },
    {
      "cell_type": "markdown",
      "metadata": {
        "id": "nTis6gKvoNkm"
      },
      "source": [
        "4. Escribe un ciclo que recorra la siguiente lista e imprima cada nombre de pokemon:"
      ]
    },
    {
      "cell_type": "code",
      "metadata": {
        "id": "C2B4nzcENgB7"
      },
      "source": [
        "pokemons = ['Bulbasaur', 'Ivysaur', 'Squirtle', 'Venusaur', 'Charmander', 'Squirtle', 'Charmeleon', 'Pidgey', 'Pikachu', 'Squirtle']"
      ],
      "execution_count": null,
      "outputs": []
    },
    {
      "cell_type": "code",
      "metadata": {
        "id": "l-hgO3AFkVzk",
        "colab": {
          "base_uri": "https://localhost:8080/"
        },
        "outputId": "3d3c0a5d-4ef6-48fe-d501-9ffd4e6c6034"
      },
      "source": [
        "for pokemon in pokemons:\n",
        "  print(pokemon)"
      ],
      "execution_count": null,
      "outputs": [
        {
          "output_type": "stream",
          "name": "stdout",
          "text": [
            "Bulbasaur\n",
            "Ivysaur\n",
            "Squirtle\n",
            "Venusaur\n",
            "Charmander\n",
            "Squirtle\n",
            "Charmeleon\n",
            "Pidgey\n",
            "Pikachu\n",
            "Squirtle\n"
          ]
        }
      ]
    },
    {
      "cell_type": "markdown",
      "metadata": {
        "id": "h7VTsi7Lh3C-"
      },
      "source": [
        "5. Escribe un ciclo que recorra la lista pokemon. En caso de encontrarnos con el nombre 'Squirtle' al iterar la lista, imprima un mensaje con el siguiente formato:\n",
        "\n",
        "index - pokemon - Vamo a calmarno\n",
        "\n",
        "Donde:\n",
        "- index es número de posición en la lista donde encontramos 'Squirtle'. Debe ser una variable.\n",
        "- pokemon es el nombre del pokemon que estamos buscando\n",
        "- \"Vamo a calmarno\" es la frase de nuestro pokemon. "
      ]
    },
    {
      "cell_type": "code",
      "metadata": {
        "id": "I3I7VbTdoin4",
        "colab": {
          "base_uri": "https://localhost:8080/"
        },
        "outputId": "e8b311e3-380e-4a67-ac72-4e78930b2c72"
      },
      "source": [
        "for i, pokemon in enumerate(pokemons):\n",
        "  if pokemon == \"Squirtle\":\n",
        "    print(f'{i} - {pokemon} - Vamo a calmarno')"
      ],
      "execution_count": null,
      "outputs": [
        {
          "output_type": "stream",
          "name": "stdout",
          "text": [
            "2 - Squirtle - Vamo a calmarno\n",
            "5 - Squirtle - Vamo a calmarno\n",
            "9 - Squirtle - Vamo a calmarno\n"
          ]
        }
      ]
    },
    {
      "cell_type": "markdown",
      "metadata": {
        "id": "HOwNy5VOorNy"
      },
      "source": [
        "6. Muestra los valores del 0 al 20, de 3 en 3, mediante un ciclo while (incluyendo al 20). Utiliza un condicional IF dentro del ciclo para detenerlo (utiliza break)."
      ]
    },
    {
      "cell_type": "code",
      "metadata": {
        "id": "mZx6iGmeoqEA",
        "colab": {
          "base_uri": "https://localhost:8080/"
        },
        "outputId": "709c9e56-69c7-4c4d-a1c0-294f67796303"
      },
      "source": [
        "count = 0\n",
        "while True:\n",
        "  if count%3 == 0:\n",
        "    print(count)\n",
        "  if count >= 20:\n",
        "    break\n",
        "  count += 1\n",
        "\n",
        "print('')\n",
        "\n",
        "count = 0\n",
        "while True:\n",
        "  if count >= 20:\n",
        "    break\n",
        "  print(count)\n",
        "  count += 3"
      ],
      "execution_count": null,
      "outputs": [
        {
          "output_type": "stream",
          "name": "stdout",
          "text": [
            "0\n",
            "3\n",
            "6\n",
            "9\n",
            "12\n",
            "15\n",
            "18\n",
            "\n",
            "0\n",
            "3\n",
            "6\n",
            "9\n",
            "12\n",
            "15\n",
            "18\n"
          ]
        }
      ]
    },
    {
      "cell_type": "markdown",
      "metadata": {
        "id": "ato2HirpOAy9"
      },
      "source": [
        "7. Repite el ejercicio del punto 6 pero utilizando la condicional del while.\n",
        "\n",
        "**Anteriormente se uso while por lo tanto se hace uso de for**"
      ]
    },
    {
      "cell_type": "code",
      "metadata": {
        "id": "r4NtOzm3op94",
        "colab": {
          "base_uri": "https://localhost:8080/"
        },
        "outputId": "0959ed2c-774b-4953-e952-d19430ffe350"
      },
      "source": [
        "# Nota: Anteriormente se uso while por lo tanto se hace uso de for\n",
        "\n",
        "for i in range(0, 21,3):\n",
        "  print(i)\n",
        "\n",
        "print('')\n",
        "\n",
        "count = 0\n",
        "while count <= 20:\n",
        "  print(count)\n",
        "  count +=3"
      ],
      "execution_count": null,
      "outputs": [
        {
          "output_type": "stream",
          "name": "stdout",
          "text": [
            "0\n",
            "3\n",
            "6\n",
            "9\n",
            "12\n",
            "15\n",
            "18\n",
            "\n",
            "0\n",
            "3\n",
            "6\n",
            "9\n",
            "12\n",
            "15\n",
            "18\n"
          ]
        }
      ]
    },
    {
      "cell_type": "markdown",
      "metadata": {
        "id": "5W25SYZeORtE"
      },
      "source": [
        "8. Escribe un ciclo para imprimir los números impares entre el 0 y el 10. Utiliza una condicional junto con la palabra reservada \"continue\"."
      ]
    },
    {
      "cell_type": "code",
      "metadata": {
        "id": "mTpYdCzFop7s",
        "colab": {
          "base_uri": "https://localhost:8080/"
        },
        "outputId": "59fb6740-e464-4dd3-8d18-0e8dee445bae"
      },
      "source": [
        "for n in range(0,11):\n",
        "  if n%2 == 0:\n",
        "    continue\n",
        "  print(n)"
      ],
      "execution_count": null,
      "outputs": [
        {
          "output_type": "stream",
          "name": "stdout",
          "text": [
            "1\n",
            "3\n",
            "5\n",
            "7\n",
            "9\n"
          ]
        }
      ]
    },
    {
      "cell_type": "markdown",
      "metadata": {
        "id": "_jKHKuBkbxhX"
      },
      "source": [
        "###Recursos extra para estudiar y ejercios\n"
      ]
    },
    {
      "cell_type": "markdown",
      "metadata": {
        "id": "86XEDrCbdBCr"
      },
      "source": [
        "- Uso de [range en Python](https://www.w3schools.com/python/ref_func_range.asp)\n",
        "- Articulo corto de [Ciclos](https://pythonparanovatos.com/blog/como-usar-bucles-en-python/)\n",
        "- Ciclo for según [W3Schools](https://www.w3schools.com/python/python_for_loops.asp)\n",
        "- Ciclo while según [W3Schools](https://www.w3schools.com/python/python_while_loops.asp)\n",
        "- Ejercicios practicos en portal de [W3Schools](https://www.w3schools.com/python/python_exercises.asp)"
      ]
    }
  ]
}